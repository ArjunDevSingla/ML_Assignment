{
 "cells": [
  {
   "cell_type": "code",
   "execution_count": null,
   "metadata": {
    "_cell_guid": "b1076dfc-b9ad-4769-8c92-a6c4dae69d19",
    "_uuid": "8f2839f25d086af736a60e9eeb907d3b93b6e0e5"
   },
   "outputs": [],
   "source": [
    "# This Python 3 environment comes with many helpful analytics libraries installed\n",
    "# It is defined by the kaggle/python Docker image: https://github.com/kaggle/docker-python\n",
    "# For example, here's several helpful packages to load\n",
    "\n",
    "import numpy as np # linear algebra\n",
    "import pandas as pd # data processing, CSV file I/O (e.g. pd.read_csv)\n",
    "\n",
    "# Input data files are available in the read-only \"../input/\" directory\n",
    "# For example, running this (by clicking run or pressing Shift+Enter) will list all files under the input directory\n",
    "\n",
    "import os\n",
    "for dirname, _, filenames in os.walk('/kaggle/input'):\n",
    "    for filename in filenames:\n",
    "        print(os.path.join(dirname, filename))\n",
    "\n",
    "# You can write up to 20GB to the current directory (/kaggle/working/) that gets preserved as output when you create a version using \"Save & Run All\" \n",
    "# You can also write temporary files to /kaggle/temp/, but they won't be saved outside of the current session"
   ]
  },
  {
   "cell_type": "code",
   "execution_count": 59,
   "metadata": {
    "execution": {
     "iopub.execute_input": "2022-10-16T19:14:42.171156Z",
     "iopub.status.busy": "2022-10-16T19:14:42.170740Z",
     "iopub.status.idle": "2022-10-16T19:14:42.176563Z",
     "shell.execute_reply": "2022-10-16T19:14:42.175716Z",
     "shell.execute_reply.started": "2022-10-16T19:14:42.171120Z"
    }
   },
   "outputs": [],
   "source": [
    "import numpy as np\n",
    "import pandas as pd\n",
    "import matplotlib\n",
    "from sklearn.model_selection import train_test_split\n",
    "from sklearn.metrics import log_loss"
   ]
  },
  {
   "cell_type": "code",
   "execution_count": 60,
   "metadata": {
    "execution": {
     "iopub.execute_input": "2022-10-16T19:16:09.661760Z",
     "iopub.status.busy": "2022-10-16T19:16:09.661342Z",
     "iopub.status.idle": "2022-10-16T19:16:12.262872Z",
     "shell.execute_reply": "2022-10-16T19:16:12.261880Z",
     "shell.execute_reply.started": "2022-10-16T19:16:09.661727Z"
    }
   },
   "outputs": [],
   "source": [
    "data = pd.read_csv('../input/digit-recognizer/train.csv')"
   ]
  },
  {
   "cell_type": "code",
   "execution_count": 61,
   "metadata": {
    "execution": {
     "iopub.execute_input": "2022-10-16T19:16:14.868051Z",
     "iopub.status.busy": "2022-10-16T19:16:14.867288Z",
     "iopub.status.idle": "2022-10-16T19:16:14.888576Z",
     "shell.execute_reply": "2022-10-16T19:16:14.886804Z",
     "shell.execute_reply.started": "2022-10-16T19:16:14.868002Z"
    }
   },
   "outputs": [
    {
     "data": {
      "text/html": [
       "<div>\n",
       "<style scoped>\n",
       "    .dataframe tbody tr th:only-of-type {\n",
       "        vertical-align: middle;\n",
       "    }\n",
       "\n",
       "    .dataframe tbody tr th {\n",
       "        vertical-align: top;\n",
       "    }\n",
       "\n",
       "    .dataframe thead th {\n",
       "        text-align: right;\n",
       "    }\n",
       "</style>\n",
       "<table border=\"1\" class=\"dataframe\">\n",
       "  <thead>\n",
       "    <tr style=\"text-align: right;\">\n",
       "      <th></th>\n",
       "      <th>label</th>\n",
       "      <th>pixel0</th>\n",
       "      <th>pixel1</th>\n",
       "      <th>pixel2</th>\n",
       "      <th>pixel3</th>\n",
       "      <th>pixel4</th>\n",
       "      <th>pixel5</th>\n",
       "      <th>pixel6</th>\n",
       "      <th>pixel7</th>\n",
       "      <th>pixel8</th>\n",
       "      <th>...</th>\n",
       "      <th>pixel774</th>\n",
       "      <th>pixel775</th>\n",
       "      <th>pixel776</th>\n",
       "      <th>pixel777</th>\n",
       "      <th>pixel778</th>\n",
       "      <th>pixel779</th>\n",
       "      <th>pixel780</th>\n",
       "      <th>pixel781</th>\n",
       "      <th>pixel782</th>\n",
       "      <th>pixel783</th>\n",
       "    </tr>\n",
       "  </thead>\n",
       "  <tbody>\n",
       "    <tr>\n",
       "      <th>0</th>\n",
       "      <td>1</td>\n",
       "      <td>0</td>\n",
       "      <td>0</td>\n",
       "      <td>0</td>\n",
       "      <td>0</td>\n",
       "      <td>0</td>\n",
       "      <td>0</td>\n",
       "      <td>0</td>\n",
       "      <td>0</td>\n",
       "      <td>0</td>\n",
       "      <td>...</td>\n",
       "      <td>0</td>\n",
       "      <td>0</td>\n",
       "      <td>0</td>\n",
       "      <td>0</td>\n",
       "      <td>0</td>\n",
       "      <td>0</td>\n",
       "      <td>0</td>\n",
       "      <td>0</td>\n",
       "      <td>0</td>\n",
       "      <td>0</td>\n",
       "    </tr>\n",
       "    <tr>\n",
       "      <th>1</th>\n",
       "      <td>0</td>\n",
       "      <td>0</td>\n",
       "      <td>0</td>\n",
       "      <td>0</td>\n",
       "      <td>0</td>\n",
       "      <td>0</td>\n",
       "      <td>0</td>\n",
       "      <td>0</td>\n",
       "      <td>0</td>\n",
       "      <td>0</td>\n",
       "      <td>...</td>\n",
       "      <td>0</td>\n",
       "      <td>0</td>\n",
       "      <td>0</td>\n",
       "      <td>0</td>\n",
       "      <td>0</td>\n",
       "      <td>0</td>\n",
       "      <td>0</td>\n",
       "      <td>0</td>\n",
       "      <td>0</td>\n",
       "      <td>0</td>\n",
       "    </tr>\n",
       "    <tr>\n",
       "      <th>2</th>\n",
       "      <td>1</td>\n",
       "      <td>0</td>\n",
       "      <td>0</td>\n",
       "      <td>0</td>\n",
       "      <td>0</td>\n",
       "      <td>0</td>\n",
       "      <td>0</td>\n",
       "      <td>0</td>\n",
       "      <td>0</td>\n",
       "      <td>0</td>\n",
       "      <td>...</td>\n",
       "      <td>0</td>\n",
       "      <td>0</td>\n",
       "      <td>0</td>\n",
       "      <td>0</td>\n",
       "      <td>0</td>\n",
       "      <td>0</td>\n",
       "      <td>0</td>\n",
       "      <td>0</td>\n",
       "      <td>0</td>\n",
       "      <td>0</td>\n",
       "    </tr>\n",
       "    <tr>\n",
       "      <th>3</th>\n",
       "      <td>4</td>\n",
       "      <td>0</td>\n",
       "      <td>0</td>\n",
       "      <td>0</td>\n",
       "      <td>0</td>\n",
       "      <td>0</td>\n",
       "      <td>0</td>\n",
       "      <td>0</td>\n",
       "      <td>0</td>\n",
       "      <td>0</td>\n",
       "      <td>...</td>\n",
       "      <td>0</td>\n",
       "      <td>0</td>\n",
       "      <td>0</td>\n",
       "      <td>0</td>\n",
       "      <td>0</td>\n",
       "      <td>0</td>\n",
       "      <td>0</td>\n",
       "      <td>0</td>\n",
       "      <td>0</td>\n",
       "      <td>0</td>\n",
       "    </tr>\n",
       "    <tr>\n",
       "      <th>4</th>\n",
       "      <td>0</td>\n",
       "      <td>0</td>\n",
       "      <td>0</td>\n",
       "      <td>0</td>\n",
       "      <td>0</td>\n",
       "      <td>0</td>\n",
       "      <td>0</td>\n",
       "      <td>0</td>\n",
       "      <td>0</td>\n",
       "      <td>0</td>\n",
       "      <td>...</td>\n",
       "      <td>0</td>\n",
       "      <td>0</td>\n",
       "      <td>0</td>\n",
       "      <td>0</td>\n",
       "      <td>0</td>\n",
       "      <td>0</td>\n",
       "      <td>0</td>\n",
       "      <td>0</td>\n",
       "      <td>0</td>\n",
       "      <td>0</td>\n",
       "    </tr>\n",
       "  </tbody>\n",
       "</table>\n",
       "<p>5 rows × 785 columns</p>\n",
       "</div>"
      ],
      "text/plain": [
       "   label  pixel0  pixel1  pixel2  pixel3  pixel4  pixel5  pixel6  pixel7  \\\n",
       "0      1       0       0       0       0       0       0       0       0   \n",
       "1      0       0       0       0       0       0       0       0       0   \n",
       "2      1       0       0       0       0       0       0       0       0   \n",
       "3      4       0       0       0       0       0       0       0       0   \n",
       "4      0       0       0       0       0       0       0       0       0   \n",
       "\n",
       "   pixel8  ...  pixel774  pixel775  pixel776  pixel777  pixel778  pixel779  \\\n",
       "0       0  ...         0         0         0         0         0         0   \n",
       "1       0  ...         0         0         0         0         0         0   \n",
       "2       0  ...         0         0         0         0         0         0   \n",
       "3       0  ...         0         0         0         0         0         0   \n",
       "4       0  ...         0         0         0         0         0         0   \n",
       "\n",
       "   pixel780  pixel781  pixel782  pixel783  \n",
       "0         0         0         0         0  \n",
       "1         0         0         0         0  \n",
       "2         0         0         0         0  \n",
       "3         0         0         0         0  \n",
       "4         0         0         0         0  \n",
       "\n",
       "[5 rows x 785 columns]"
      ]
     },
     "execution_count": 61,
     "metadata": {},
     "output_type": "execute_result"
    }
   ],
   "source": [
    "data.head()"
   ]
  },
  {
   "cell_type": "code",
   "execution_count": 62,
   "metadata": {
    "execution": {
     "iopub.execute_input": "2022-10-16T19:16:18.091490Z",
     "iopub.status.busy": "2022-10-16T19:16:18.091090Z",
     "iopub.status.idle": "2022-10-16T19:16:18.939791Z",
     "shell.execute_reply": "2022-10-16T19:16:18.938694Z",
     "shell.execute_reply.started": "2022-10-16T19:16:18.091458Z"
    }
   },
   "outputs": [],
   "source": [
    "data = np.array(data)\n",
    "m, n = data.shape\n",
    "np.random.shuffle(data)\n",
    "\n",
    "data_test = data[0:1000].T\n",
    "Y_test = data_test[0]\n",
    "X_test = data_test[1:n]\n",
    "X_test = X_test/255\n",
    "\n",
    "data_train = data[1000:m].T\n",
    "Y_train = data_train[0]\n",
    "X_train = data_train[1:n]\n",
    "X_train = X_train / 255"
   ]
  },
  {
   "cell_type": "code",
   "execution_count": 63,
   "metadata": {
    "execution": {
     "iopub.execute_input": "2022-10-16T19:16:27.903680Z",
     "iopub.status.busy": "2022-10-16T19:16:27.903248Z",
     "iopub.status.idle": "2022-10-16T19:16:27.912246Z",
     "shell.execute_reply": "2022-10-16T19:16:27.910766Z",
     "shell.execute_reply.started": "2022-10-16T19:16:27.903642Z"
    }
   },
   "outputs": [
    {
     "data": {
      "text/plain": [
       "(41000,)"
      ]
     },
     "execution_count": 63,
     "metadata": {},
     "output_type": "execute_result"
    }
   ],
   "source": [
    "Y_train.shape"
   ]
  },
  {
   "cell_type": "code",
   "execution_count": 64,
   "metadata": {
    "execution": {
     "iopub.execute_input": "2022-10-16T19:16:30.334685Z",
     "iopub.status.busy": "2022-10-16T19:16:30.334223Z",
     "iopub.status.idle": "2022-10-16T19:16:30.343010Z",
     "shell.execute_reply": "2022-10-16T19:16:30.341721Z",
     "shell.execute_reply.started": "2022-10-16T19:16:30.334649Z"
    }
   },
   "outputs": [],
   "source": [
    "def init_params():\n",
    "    W1 = np.random.uniform(-0.5, 0.5, (120, 784))\n",
    "    b1 = np.random.uniform(-.5, 0.5, (120, 1))\n",
    "    W2 = np.random.uniform(-0.5, 0.5, (40, 120))\n",
    "    b2 = np.random.uniform(-0.5, 0.5, (40, 1))\n",
    "    W3 = np.random.uniform(-0.5, 0.5, (10, 40))\n",
    "    b3 = np.random.uniform(-0.5, 0.5, (10, 1))\n",
    "    K = np.random.uniform(-0.5, 0.5, (3,))\n",
    "    return W1, b1, W2, b2, W3, b3, K"
   ]
  },
  {
   "cell_type": "code",
   "execution_count": 65,
   "metadata": {
    "execution": {
     "iopub.execute_input": "2022-10-16T19:16:40.908016Z",
     "iopub.status.busy": "2022-10-16T19:16:40.907463Z",
     "iopub.status.idle": "2022-10-16T19:16:40.914152Z",
     "shell.execute_reply": "2022-10-16T19:16:40.912749Z",
     "shell.execute_reply.started": "2022-10-16T19:16:40.907977Z"
    }
   },
   "outputs": [],
   "source": [
    "def activation(k0, k1, z):\n",
    "    return k0 + np.multiply(k1, z)"
   ]
  },
  {
   "cell_type": "code",
   "execution_count": 66,
   "metadata": {
    "execution": {
     "iopub.execute_input": "2022-10-16T19:16:46.858760Z",
     "iopub.status.busy": "2022-10-16T19:16:46.858256Z",
     "iopub.status.idle": "2022-10-16T19:16:46.863969Z",
     "shell.execute_reply": "2022-10-16T19:16:46.863090Z",
     "shell.execute_reply.started": "2022-10-16T19:16:46.858721Z"
    }
   },
   "outputs": [],
   "source": [
    "def softmax(Z):\n",
    "    f_x = np.exp(Z) / np.sum(np.exp(Z))\n",
    "    return f_x"
   ]
  },
  {
   "cell_type": "code",
   "execution_count": 67,
   "metadata": {
    "execution": {
     "iopub.execute_input": "2022-10-16T19:17:00.220974Z",
     "iopub.status.busy": "2022-10-16T19:17:00.220572Z",
     "iopub.status.idle": "2022-10-16T19:17:00.228351Z",
     "shell.execute_reply": "2022-10-16T19:17:00.227114Z",
     "shell.execute_reply.started": "2022-10-16T19:17:00.220942Z"
    }
   },
   "outputs": [],
   "source": [
    "def forward_propogation(W1, b1, W2, b2, W3, b3, k0, k1, X):\n",
    "    Z1 = W1.dot(X) + b1\n",
    "    A1 = activation(k0, k1, Z1)\n",
    "    Z2 = W2.dot(A1) + b2\n",
    "    A2 = activation(k0, k1, Z2)\n",
    "    Z3 = W3.dot(A2) + b3\n",
    "    A3 = softmax(Z3)\n",
    "    return Z1, A1, Z2, A2, Z3, A3"
   ]
  },
  {
   "cell_type": "code",
   "execution_count": 68,
   "metadata": {
    "execution": {
     "iopub.execute_input": "2022-10-16T19:17:06.001250Z",
     "iopub.status.busy": "2022-10-16T19:17:06.000847Z",
     "iopub.status.idle": "2022-10-16T19:17:06.008788Z",
     "shell.execute_reply": "2022-10-16T19:17:06.007588Z",
     "shell.execute_reply.started": "2022-10-16T19:17:06.001220Z"
    }
   },
   "outputs": [],
   "source": [
    "def one_hot(Y):\n",
    "    one_hot_Y = np.zeros((Y.size, Y.max() + 1))\n",
    "    one_hot_Y[np.arange(Y.size), Y] = 1\n",
    "    one_hot_Y = one_hot_Y.T\n",
    "    return one_hot_Y"
   ]
  },
  {
   "cell_type": "code",
   "execution_count": 69,
   "metadata": {
    "execution": {
     "iopub.execute_input": "2022-10-16T19:17:08.480280Z",
     "iopub.status.busy": "2022-10-16T19:17:08.479016Z",
     "iopub.status.idle": "2022-10-16T19:17:08.484476Z",
     "shell.execute_reply": "2022-10-16T19:17:08.483644Z",
     "shell.execute_reply.started": "2022-10-16T19:17:08.480235Z"
    }
   },
   "outputs": [],
   "source": [
    "def deri_act(k0, k1, z):\n",
    "    return k1"
   ]
  },
  {
   "cell_type": "code",
   "execution_count": 70,
   "metadata": {
    "execution": {
     "iopub.execute_input": "2022-10-16T19:18:37.905819Z",
     "iopub.status.busy": "2022-10-16T19:18:37.905347Z",
     "iopub.status.idle": "2022-10-16T19:18:37.918192Z",
     "shell.execute_reply": "2022-10-16T19:18:37.917113Z",
     "shell.execute_reply.started": "2022-10-16T19:18:37.905782Z"
    }
   },
   "outputs": [],
   "source": [
    "def backward_propogation(Z1, A1, Z2, A2, A3, W3, W2, k0, k1, X, Y):\n",
    "    m = Y.size\n",
    "    \n",
    "    one_hot_Y = one_hot(Y)\n",
    "    dZ3 = A3 - one_hot_Y\n",
    "    dW3 = 1/m * dZ3.dot(A2.T)\n",
    "    db3 = 1/m * np.sum(dZ3)\n",
    "    \n",
    "    dA2 = W3.T.dot(dZ3)\n",
    "    dZ2 = W3.T.dot(dZ3) * deri_act(k0, k1, Z2)\n",
    "    dW2 = 1/m * dZ2.dot(A1.T)\n",
    "    db2 = 1/m * np.sum(dZ2)\n",
    "    dK2 = [np.sum(dA2)/ dA2.size, np.sum(dZ2.dot(dA2.T)) / (dZ2.dot(dA2.T)).size, np.sum((dZ2.T).dot(dA2.dot(dA2.T))) / ((dZ2.T).dot(dA2.dot(dA2.T))).size]\n",
    "    \n",
    "    dA1 = W2.T.dot(dZ2)\n",
    "    dZ1 = W2.T.dot(dZ2) * deri_act(k0, k1, Z1)\n",
    "    dW1 = 1/m * dZ1.dot(X.T)\n",
    "    db1 = 1/m * np.sum(dZ1)\n",
    "    dK1 = [np.sum(dA1)/ dA1.size, np.sum(dZ1.dot(dA1.T))/(dZ1.dot(dA1.T)).size, np.sum((dZ1.T).dot(dA1.dot(dA1.T)))/(dZ1.T).dot(dA1.dot(dA1.T)).size]\n",
    "    \n",
    "    dK = np.add(dK1, dK2)\n",
    "    return dW1, db1, dW2, db2, dW3, db3, dK"
   ]
  },
  {
   "cell_type": "code",
   "execution_count": 71,
   "metadata": {
    "execution": {
     "iopub.execute_input": "2022-10-16T19:18:42.295377Z",
     "iopub.status.busy": "2022-10-16T19:18:42.294655Z",
     "iopub.status.idle": "2022-10-16T19:18:42.301198Z",
     "shell.execute_reply": "2022-10-16T19:18:42.300316Z",
     "shell.execute_reply.started": "2022-10-16T19:18:42.295340Z"
    }
   },
   "outputs": [],
   "source": [
    "def update_params(W1, b1, W2, b2, W3, b3, K, dW1, db1, dW2, db2, dW3, db3, dK, alpha):\n",
    "    W1 = W1 - alpha * dW1\n",
    "    b1 = b1 - alpha * db1\n",
    "    W2 = W2 - alpha * dW2\n",
    "    b2 = b2 - alpha * db2\n",
    "    W3 = W3 - alpha * dW3\n",
    "    b3 = b3 - alpha * db3\n",
    "    K = K - alpha * dK\n",
    "    return W1, b1, W2, b2, W3, b3, K"
   ]
  },
  {
   "cell_type": "code",
   "execution_count": 72,
   "metadata": {
    "execution": {
     "iopub.execute_input": "2022-10-16T19:18:44.986247Z",
     "iopub.status.busy": "2022-10-16T19:18:44.985844Z",
     "iopub.status.idle": "2022-10-16T19:18:44.992205Z",
     "shell.execute_reply": "2022-10-16T19:18:44.991307Z",
     "shell.execute_reply.started": "2022-10-16T19:18:44.986215Z"
    }
   },
   "outputs": [],
   "source": [
    "def get_predictions(A3):\n",
    "    return np.argmax(A3, 0)\n",
    "\n",
    "def get_accuracy(predictions, Y):\n",
    "    print(predictions, Y)\n",
    "    return np.sum(predictions == Y) / Y.size"
   ]
  },
  {
   "cell_type": "code",
   "execution_count": 73,
   "metadata": {
    "execution": {
     "iopub.execute_input": "2022-10-16T19:18:49.203526Z",
     "iopub.status.busy": "2022-10-16T19:18:49.202896Z",
     "iopub.status.idle": "2022-10-16T19:18:49.212774Z",
     "shell.execute_reply": "2022-10-16T19:18:49.211738Z",
     "shell.execute_reply.started": "2022-10-16T19:18:49.203482Z"
    }
   },
   "outputs": [],
   "source": [
    "def gradient_descent(X, Y, iterations, alpha):\n",
    "    W1, b1, W2, b2, W3, b3, K = init_params()\n",
    "    for i in range(iterations):\n",
    "        Z1, A1, Z2, A2, Z3, A3 = forward_propogation(W1, b1, W2, b2, W3, b3, K[0], K[1], X)\n",
    "        dW1, db1, dW2, db2, dW3, db3, dK = backward_propogation(Z1, A1, Z2, A2, A3, W3, W2, K[0], K[1], X, Y)\n",
    "        print(dK)\n",
    "        W1,b1, W2, b2, W3, b3, K = update_params(W1, b1, W2, b2, W3, b3, K, dW1, db1, dW2, db2, dW3, db3, dK, alpha)\n",
    "        print(\"Iteration: \", i)\n",
    "        print(\"Accuracy: \", get_accuracy(get_predictions(A3), Y))\n",
    "    return W1, b1, W2, b2, W3, b3"
   ]
  },
  {
   "cell_type": "code",
   "execution_count": 75,
   "metadata": {
    "execution": {
     "iopub.execute_input": "2022-10-16T19:19:25.770463Z",
     "iopub.status.busy": "2022-10-16T19:19:25.770058Z",
     "iopub.status.idle": "2022-10-16T19:19:27.747504Z",
     "shell.execute_reply": "2022-10-16T19:19:27.745984Z",
     "shell.execute_reply.started": "2022-10-16T19:19:25.770430Z"
    }
   },
   "outputs": [
    {
     "name": "stdout",
     "output_type": "stream",
     "text": [
      "[-6.46659863e-03  5.65731038e+01 -5.29656687e+01]\n",
      "Iteration:  0\n",
      "[3 3 3 ... 3 3 3] [2 7 6 ... 5 7 9]\n",
      "Accuracy:  0.08709756097560975\n"
     ]
    },
    {
     "name": "stderr",
     "output_type": "stream",
     "text": [
      "/opt/conda/lib/python3.7/site-packages/ipykernel_launcher.py:2: RuntimeWarning: overflow encountered in exp\n",
      "  \n",
      "/opt/conda/lib/python3.7/site-packages/numpy/core/fromnumeric.py:86: RuntimeWarning: overflow encountered in reduce\n",
      "  return ufunc.reduce(obj, axis, dtype, out, **passkwargs)\n",
      "/opt/conda/lib/python3.7/site-packages/ipykernel_launcher.py:2: RuntimeWarning: invalid value encountered in true_divide\n",
      "  \n"
     ]
    },
    {
     "name": "stdout",
     "output_type": "stream",
     "text": [
      "[nan nan nan]\n",
      "Iteration:  1\n",
      "[0 3 0 ... 3 3 3] [2 7 6 ... 5 7 9]\n",
      "Accuracy:  0.06741463414634147\n"
     ]
    }
   ],
   "source": [
    "W1, b1, W2, b2, W3, b3 = gradient_descent(X_train, Y_train, 2, 0.1)"
   ]
  },
  {
   "cell_type": "code",
   "execution_count": null,
   "metadata": {},
   "outputs": [],
   "source": []
  },
  {
   "cell_type": "code",
   "execution_count": null,
   "metadata": {},
   "outputs": [],
   "source": []
  },
  {
   "cell_type": "code",
   "execution_count": null,
   "metadata": {},
   "outputs": [],
   "source": []
  }
 ],
 "metadata": {
  "kernelspec": {
   "display_name": "Python 3 (ipykernel)",
   "language": "python",
   "name": "python3"
  },
  "language_info": {
   "codemirror_mode": {
    "name": "ipython",
    "version": 3
   },
   "file_extension": ".py",
   "mimetype": "text/x-python",
   "name": "python",
   "nbconvert_exporter": "python",
   "pygments_lexer": "ipython3",
   "version": "3.10.7"
  }
 },
 "nbformat": 4,
 "nbformat_minor": 4
}
